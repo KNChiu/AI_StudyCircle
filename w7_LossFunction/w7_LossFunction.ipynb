{
 "cells": [
  {
   "cell_type": "code",
   "execution_count": 12,
   "metadata": {},
   "outputs": [
    {
     "name": "stdout",
     "output_type": "stream",
     "text": [
      "tensor(10000.)\n"
     ]
    }
   ],
   "source": [
    "import matplotlib.pyplot as plt\n",
    "import numpy as np\n",
    "import torch\n",
    "\n",
    "train_data = np.array([0, 1])\n",
    "tests_data = np.array([100, -99])\n",
    "\n",
    "loss_fn = torch.nn.MSELoss(size_average=None, reduce=None, reduction='mean')\n",
    "\n",
    "train = torch.autograd.Variable(torch.from_numpy(train_data))\n",
    "tests = torch.autograd.Variable(torch.from_numpy(tests_data))\n",
    "\n",
    "loss = loss_fn(train.float(), tests.float())\n",
    "\n",
    "print(loss)"
   ]
  },
  {
   "cell_type": "code",
   "execution_count": null,
   "metadata": {},
   "outputs": [],
   "source": [
    "plt.figure()\n",
    "plt.plot(x, y)\n",
    "plt.show()"
   ]
  }
 ],
 "metadata": {
  "kernelspec": {
   "display_name": "Python 3",
   "language": "python",
   "name": "python3"
  },
  "language_info": {
   "codemirror_mode": {
    "name": "ipython",
    "version": 3
   },
   "file_extension": ".py",
   "mimetype": "text/x-python",
   "name": "python",
   "nbconvert_exporter": "python",
   "pygments_lexer": "ipython3",
   "version": "3.7.4"
  }
 },
 "nbformat": 4,
 "nbformat_minor": 4
}
