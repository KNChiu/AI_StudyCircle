{
 "cells": [
  {
   "cell_type": "code",
   "execution_count": 35,
   "metadata": {},
   "outputs": [
    {
     "name": "stdout",
     "output_type": "stream",
     "text": [
      "tensor([-5., -4., -3., -2., -1.,  0.,  1.,  2.,  3.,  4.,  5.])\n",
      "tensor([0., 0., 0., 0., 0., 0., 0., 0., 0., 0., 0.])\n"
     ]
    }
   ],
   "source": [
    "import matplotlib.pyplot as plt\n",
    "import numpy as np\n",
    "import torch\n",
    "\n",
    "train_data = []\n",
    "tests_data = []\n",
    "\n",
    "for j in range(-5, 6):\n",
    "    train_data.append(j)\n",
    "    tests_data.append(0)\n",
    "\n",
    "train_data = torch.Tensor(train_data)    \n",
    "tests_data = torch.Tensor(tests_data)\n",
    "\n",
    "train = torch.autograd.Variable(train_data)\n",
    "tests = torch.autograd.Variable(tests_data)\n",
    "\n",
    "print(train)\n",
    "print(tests)"
   ]
  },
  {
   "cell_type": "code",
   "execution_count": 16,
   "metadata": {},
   "outputs": [],
   "source": [
    "loss_MSE = torch.nn.MSELoss(size_average=None, reduce=None, reduction='mean')\n",
    "loss_MAE = torch.nn.L1Loss(size_average=None, reduce=None, reduction='mean')\n",
    "\n",
    "MSE_y = []\n",
    "MAE_y = []\n",
    "\n",
    "for i in range(len(train)):\n",
    "    # print(loss_MSE(train[i].float(), tests[i].float()), loss_MAE(train[i].float(), tests[i].float()))\n",
    "    MSE_y.append(loss_MSE(train[i].float(), tests[i].float()))\n",
    "    MAE_y.append(loss_MAE(train[i].float(), tests[i].float()))\n",
    "    \n"
   ]
  },
  {
   "cell_type": "code",
   "execution_count": 43,
   "metadata": {},
   "outputs": [
    {
     "name": "stdout",
     "output_type": "stream",
     "text": [
      "Train data : tensor([-5., -4., -3., -2., -1.,  0.,  1.,  2.,  3.,  4.,  5.])\n",
      "Tests data : tensor([0., 0., 0., 0., 0., 0., 0., 0., 0., 0., 0.])\n"
     ]
    },
    {
     "data": {
      "image/png": "[encoded data removed]",
      "text/plain": [
       "<Figure size 432x288 with 1 Axes>"
      ]
     },
     "metadata": {
      "needs_background": "light"
     },
     "output_type": "display_data"
    }
   ],
   "source": [
    "print(\"Train data :\", train)\n",
    "print(\"Tests data :\", tests)\n",
    "\n",
    "plt.figure()\n",
    "plt.plot(train_data, MSE_y,\"b\")\n",
    "plt.plot(train_data, MAE_y, \"r\")\n",
    "\n",
    "plt.xlabel(\"Train data\")\n",
    "plt.ylabel(\"Loss function\")\n",
    "\n",
    "plt.show()"
   ]
  }
 ],
 "metadata": {
  "kernelspec": {
   "display_name": "Python 3",
   "language": "python",
   "name": "python3"
  },
  "language_info": {
   "codemirror_mode": {
    "name": "ipython",
    "version": 3
   },
   "file_extension": ".py",
   "mimetype": "text/x-python",
   "name": "python",
   "nbconvert_exporter": "python",
   "pygments_lexer": "ipython3",
   "version": "3.7.4"
  }
 },
 "nbformat": 4,
 "nbformat_minor": 4
}
